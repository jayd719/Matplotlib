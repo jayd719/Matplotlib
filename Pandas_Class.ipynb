{
 "cells": [
  {
   "cell_type": "code",
   "execution_count": 6,
   "id": "37805b3d-5606-4336-a20c-98564c7888bf",
   "metadata": {},
   "outputs": [],
   "source": [
    "import pandas as pd"
   ]
  },
  {
   "cell_type": "code",
   "execution_count": 4,
   "id": "90b6128c-4055-46a5-8650-dec61ad3a60a",
   "metadata": {},
   "outputs": [],
   "source": [
    "'''\n",
    "Creating Data Frames\n",
    "optional columns paramter\n",
    "optional index parameter\n",
    "'''\n",
    "df = pd.DataFrame([[1, 2, 3, 4], [5, 6, 7, 8], [9, 10, 11, 12]])"
   ]
  },
  {
   "cell_type": "code",
   "execution_count": null,
   "id": "3e8f6a0b-a3db-45d8-80a2-0c686dc82246",
   "metadata": {},
   "outputs": [],
   "source": [
    "df"
   ]
  },
  {
   "cell_type": "code",
   "execution_count": null,
   "id": "fb82e1df-8189-40a6-8fb3-dde2782e728d",
   "metadata": {},
   "outputs": [],
   "source": [
    "'''\n",
    ".head(x), positive and negative indexing\n",
    ".tail(x)\n",
    ".sample(x)\n",
    "'''\n"
   ]
  },
  {
   "cell_type": "code",
   "execution_count": null,
   "id": "7473293c-7f53-4142-8fdb-49f41c10d51a",
   "metadata": {},
   "outputs": [],
   "source": [
    "'''\n",
    ".shape()\n",
    ".info()\n",
    ".describe()\n",
    "'''"
   ]
  },
  {
   "cell_type": "code",
   "execution_count": null,
   "id": "794b02ef-eea1-47d6-a7ca-04dcea227a65",
   "metadata": {},
   "outputs": [],
   "source": [
    "'''\n",
    "Modifying data type of a column\n",
    "d[\"A\"] = d[\"B\"].astype('datatype')\n",
    "'''"
   ]
  },
  {
   "cell_type": "code",
   "execution_count": null,
   "id": "c109865c-f0d1-4a63-a2f6-ef714f105a57",
   "metadata": {},
   "outputs": [],
   "source": [
    "'''\n",
    ".columns\n",
    ".index\n",
    ".nunique()\n",
    ".unique()\n",
    "'''"
   ]
  },
  {
   "cell_type": "code",
   "execution_count": null,
   "id": "f63adf7c-4b64-4403-932e-347420ac7f2a",
   "metadata": {},
   "outputs": [],
   "source": [
    "'''\n",
    "Loading csv dataset\n",
    "read_csv(path)\n",
    "Datasets:\n",
    "customer_feedback\n",
    "health_data\n",
    "student_scores\n",
    "'''"
   ]
  },
  {
   "cell_type": "code",
   "execution_count": null,
   "id": "1cf2cea9-5ed4-4464-9d57-44562489afb9",
   "metadata": {},
   "outputs": [],
   "source": [
    "'''\n",
    ".loc[]\n",
    ".iloc[]\n",
    "'''"
   ]
  },
  {
   "cell_type": "code",
   "execution_count": 8,
   "id": "f21fad5b-c9b5-4237-830c-5a4c3c82a743",
   "metadata": {},
   "outputs": [
    {
     "data": {
      "text/html": [
       "<div>\n",
       "<style scoped>\n",
       "    .dataframe tbody tr th:only-of-type {\n",
       "        vertical-align: middle;\n",
       "    }\n",
       "\n",
       "    .dataframe tbody tr th {\n",
       "        vertical-align: top;\n",
       "    }\n",
       "\n",
       "    .dataframe thead th {\n",
       "        text-align: right;\n",
       "    }\n",
       "</style>\n",
       "<table border=\"1\" class=\"dataframe\">\n",
       "  <thead>\n",
       "    <tr style=\"text-align: right;\">\n",
       "      <th></th>\n",
       "      <th>Student_ID</th>\n",
       "      <th>Math</th>\n",
       "      <th>Science</th>\n",
       "      <th>English</th>\n",
       "    </tr>\n",
       "  </thead>\n",
       "  <tbody>\n",
       "    <tr>\n",
       "      <th>0</th>\n",
       "      <td>1</td>\n",
       "      <td>78</td>\n",
       "      <td>88</td>\n",
       "      <td>74</td>\n",
       "    </tr>\n",
       "    <tr>\n",
       "      <th>1</th>\n",
       "      <td>2</td>\n",
       "      <td>55</td>\n",
       "      <td>69</td>\n",
       "      <td>58</td>\n",
       "    </tr>\n",
       "    <tr>\n",
       "      <th>2</th>\n",
       "      <td>3</td>\n",
       "      <td>89</td>\n",
       "      <td>94</td>\n",
       "      <td>87</td>\n",
       "    </tr>\n",
       "    <tr>\n",
       "      <th>3</th>\n",
       "      <td>4</td>\n",
       "      <td>65</td>\n",
       "      <td>70</td>\n",
       "      <td>62</td>\n",
       "    </tr>\n",
       "    <tr>\n",
       "      <th>4</th>\n",
       "      <td>5</td>\n",
       "      <td>95</td>\n",
       "      <td>90</td>\n",
       "      <td>92</td>\n",
       "    </tr>\n",
       "  </tbody>\n",
       "</table>\n",
       "</div>"
      ],
      "text/plain": [
       "   Student_ID  Math  Science  English\n",
       "0           1    78       88       74\n",
       "1           2    55       69       58\n",
       "2           3    89       94       87\n",
       "3           4    65       70       62\n",
       "4           5    95       90       92"
      ]
     },
     "execution_count": 8,
     "metadata": {},
     "output_type": "execute_result"
    }
   ],
   "source": [
    "df_csv = pd.read_csv('Data/student_scores.csv')\n",
    "df_csv.head()"
   ]
  },
  {
   "cell_type": "code",
   "execution_count": 10,
   "id": "97fa0a2d-53ef-4c88-9269-4b59277021e2",
   "metadata": {},
   "outputs": [
    {
     "name": "stdout",
     "output_type": "stream",
     "text": [
      "   Student_ID  Math\n",
      "1           2    55\n",
      "2           3    89\n",
      "3           4    65\n"
     ]
    }
   ],
   "source": [
    "print(df_csv.iloc[1:4, 0:2])"
   ]
  },
  {
   "cell_type": "code",
   "execution_count": null,
   "id": "37d907a4-912c-460f-b33e-57c3454ea8cb",
   "metadata": {},
   "outputs": [],
   "source": [
    "'''\n",
    "Modifying the values. \n",
    "Single cell\n",
    "multiple cells\n",
    "df_csv.loc[r, c] = V\n",
    "df_csv.iloc[r, c] = V\n",
    "'''"
   ]
  },
  {
   "cell_type": "code",
   "execution_count": null,
   "id": "c2769a92-05d3-4306-8b22-377f990789b4",
   "metadata": {},
   "outputs": [],
   "source": [
    "'''\n",
    "Adding columns:\n",
    "df_csv[\"New-Col\"] = V\n",
    "df_csv[\"New-Col\"] = Eq\n",
    "'''"
   ]
  },
  {
   "cell_type": "code",
   "execution_count": null,
   "id": "ed00122d-5e13-492f-a64b-919c8e30ef3b",
   "metadata": {},
   "outputs": [],
   "source": [
    "'''\n",
    "Add a column with average of all subjects\n",
    "'''"
   ]
  },
  {
   "cell_type": "code",
   "execution_count": null,
   "id": "50d4c50e-c4f7-4a52-bbf8-b133f1e7be5b",
   "metadata": {},
   "outputs": [],
   "source": [
    "'''\n",
    "Column Operations:\n",
    "df_csv['C'].mean()\n",
    "'''"
   ]
  },
  {
   "cell_type": "code",
   "execution_count": null,
   "id": "72cc7162-49c0-4680-b9e4-82a11cbd8340",
   "metadata": {},
   "outputs": [],
   "source": [
    "'''\n",
    "Find mean for every numerical column and create a list\n",
    "'''"
   ]
  },
  {
   "cell_type": "code",
   "execution_count": null,
   "id": "2b9c721f-b9ca-4677-ac8a-e97f0dfdece9",
   "metadata": {},
   "outputs": [],
   "source": [
    "'''\n",
    "Create a row as a dictionary\n",
    "Add a row: df_csv.loc[len(df_csv)] = new_row\n",
    "'''"
   ]
  },
  {
   "cell_type": "code",
   "execution_count": null,
   "id": "b1b5387f-5145-4804-9116-e57eeb430096",
   "metadata": {},
   "outputs": [],
   "source": [
    "'''\n",
    "Add a row containing totals\n",
    "'''"
   ]
  },
  {
   "cell_type": "code",
   "execution_count": null,
   "id": "8b035d8b-335d-4f01-a7f2-51396c7a0d79",
   "metadata": {},
   "outputs": [],
   "source": [
    "'''\n",
    "Delete a row:\n",
    "df_csv = df_csv.drop(x)\n",
    "Delete a column\n",
    "df_csv = df_csv.drop(x, axis = 1)\n",
    "'''"
   ]
  },
  {
   "cell_type": "code",
   "execution_count": null,
   "id": "ea6c1515-bd4b-4445-8682-3a5a261381e8",
   "metadata": {},
   "outputs": [],
   "source": [
    "'''\n",
    "iterting over rows as Series:\n",
    "for index, row in df_csv.iterrows()\n",
    "'''"
   ]
  },
  {
   "cell_type": "code",
   "execution_count": null,
   "id": "85406ca3-a7b9-414f-b803-d06338eb2334",
   "metadata": {},
   "outputs": [],
   "source": [
    "'''\n",
    "iterating over rows as tuples\n",
    "for tup in df_csv.itertuples():\n",
    "'''"
   ]
  },
  {
   "cell_type": "code",
   "execution_count": null,
   "id": "d647f46c-3189-406c-aedc-eb4fc58cc5b9",
   "metadata": {},
   "outputs": [],
   "source": [
    "'''\n",
    "Data Sorting\n",
    "df_csv.sort_values(\"C\", ascending=T/F)\n",
    "'''"
   ]
  },
  {
   "cell_type": "code",
   "execution_count": null,
   "id": "3478146b-c8f9-47f5-9745-ccf3314ad312",
   "metadata": {},
   "outputs": [],
   "source": [
    "'''\n",
    "Conditions, Filtering:\n",
    "cond = df_csv[\"C\"] > x\n",
    "df_csv.loc[cond, C]\n",
    "'''"
   ]
  },
  {
   "cell_type": "code",
   "execution_count": null,
   "id": "e28f8165-2d56-4e2c-bfe8-7c18b7703a98",
   "metadata": {},
   "outputs": [],
   "source": [
    "'''\n",
    "Write a condition to display Sudent ID and English marks for students with more than\n",
    "80 in Math and more than 85 in Science\n",
    "'''"
   ]
  },
  {
   "cell_type": "code",
   "execution_count": null,
   "id": "96ca8484-bacf-4ca6-a62e-a4e358945880",
   "metadata": {},
   "outputs": [],
   "source": [
    "'''\n",
    "Display Student Id of the students that score greater than 80 in Math but their\n",
    "score in either English or Science was less than 75\n",
    "'''"
   ]
  },
  {
   "cell_type": "code",
   "execution_count": null,
   "id": "874eca86-dfa0-49d1-b5f5-d670d894e803",
   "metadata": {},
   "outputs": [],
   "source": [
    "'''\n",
    "isin\n",
    "cond = df_csv[\"C\"].isin([x, y])\n",
    "'''"
   ]
  },
  {
   "cell_type": "code",
   "execution_count": null,
   "id": "f151c026-1ef6-4f61-b4e9-0453d3253346",
   "metadata": {},
   "outputs": [],
   "source": [
    "'''\n",
    "Mapping\n",
    "using lambda: df_csv[\"New C\"] = df_csv[\"C\"].map(lambda p: p + x)\n",
    "Using function: df_csv[\"New C\"] = df_csv[\"C\"].map(func_call)\n",
    "'''"
   ]
  }
 ],
 "metadata": {
  "kernelspec": {
   "display_name": "anaconda-ai-2024.04-py310",
   "language": "python",
   "name": "conda-env-anaconda-ai-2024.04-py310-py"
  },
  "language_info": {
   "codemirror_mode": {
    "name": "ipython",
    "version": 3
   },
   "file_extension": ".py",
   "mimetype": "text/x-python",
   "name": "python",
   "nbconvert_exporter": "python",
   "pygments_lexer": "ipython3",
   "version": "3.10.13"
  }
 },
 "nbformat": 4,
 "nbformat_minor": 5
}
